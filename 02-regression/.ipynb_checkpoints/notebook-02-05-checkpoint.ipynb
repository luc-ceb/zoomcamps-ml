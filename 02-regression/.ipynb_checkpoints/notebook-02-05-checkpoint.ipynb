{
 "cells": [
  {
   "cell_type": "code",
   "execution_count": 2,
   "metadata": {
    "colab": {
     "base_uri": "https://localhost:8080/",
     "height": 73
    },
    "executionInfo": {
     "elapsed": 21813,
     "status": "ok",
     "timestamp": 1663710944410,
     "user": {
      "displayName": "Luciano Ceballos",
      "userId": "14799096369180886526"
     },
     "user_tz": 180
    },
    "id": "bGqA3i9F1IjZ",
    "outputId": "47198511-aead-4eb2-c0ed-292ab5eb6184"
   },
   "outputs": [],
   "source": [
    "\n",
    "import pandas as pd\n",
    "\n",
    "df1 = pd.read_csv('data.csv')"
   ]
  },
  {
   "cell_type": "code",
   "execution_count": 3,
   "metadata": {
    "executionInfo": {
     "elapsed": 4,
     "status": "ok",
     "timestamp": 1663710989545,
     "user": {
      "displayName": "Luciano Ceballos",
      "userId": "14799096369180886526"
     },
     "user_tz": 180
    },
    "id": "wgsmrLNA5DlV"
   },
   "outputs": [],
   "source": [
    "df = df1.copy()"
   ]
  },
  {
   "cell_type": "code",
   "execution_count": null,
   "metadata": {
    "colab": {
     "base_uri": "https://localhost:8080/",
     "height": 458
    },
    "executionInfo": {
     "elapsed": 283,
     "status": "ok",
     "timestamp": 1663711009191,
     "user": {
      "displayName": "Luciano Ceballos",
      "userId": "14799096369180886526"
     },
     "user_tz": 180
    },
    "id": "T8DI-jMe2lrw",
    "outputId": "028fddf2-f2bd-48e5-dfc7-64674d275594"
   },
   "outputs": [],
   "source": [
    "df.head()"
   ]
  },
  {
   "cell_type": "code",
   "execution_count": 5,
   "metadata": {
    "colab": {
     "base_uri": "https://localhost:8080/"
    },
    "executionInfo": {
     "elapsed": 252,
     "status": "ok",
     "timestamp": 1663710256868,
     "user": {
      "displayName": "Luciano Ceballos",
      "userId": "14799096369180886526"
     },
     "user_tz": 180
    },
    "id": "7IU_4MZm26gZ",
    "outputId": "605bb990-a675-44e2-e947-c239c2fc6804"
   },
   "outputs": [
    {
     "data": {
      "text/plain": [
       "0        2011\n",
       "1        2011\n",
       "2        2011\n",
       "3        2011\n",
       "4        2011\n",
       "         ... \n",
       "11909    2012\n",
       "11910    2012\n",
       "11911    2012\n",
       "11912    2013\n",
       "11913    2006\n",
       "Name: Year, Length: 11914, dtype: int64"
      ]
     },
     "execution_count": 5,
     "metadata": {},
     "output_type": "execute_result"
    }
   ],
   "source": [
    "df.Year"
   ]
  },
  {
   "cell_type": "code",
   "execution_count": 6,
   "metadata": {
    "colab": {
     "base_uri": "https://localhost:8080/"
    },
    "executionInfo": {
     "elapsed": 6,
     "status": "ok",
     "timestamp": 1663710270265,
     "user": {
      "displayName": "Luciano Ceballos",
      "userId": "14799096369180886526"
     },
     "user_tz": 180
    },
    "id": "TmM7z-8a2_62",
    "outputId": "dc6fda39-6f4c-4f9a-a7bb-2bfdb52bbfbe"
   },
   "outputs": [
    {
     "data": {
      "text/plain": [
       "Index(['Make', 'Model', 'Year', 'Engine Fuel Type', 'Engine HP',\n",
       "       'Engine Cylinders', 'Transmission Type', 'Driven_Wheels',\n",
       "       'Number of Doors', 'Market Category', 'Vehicle Size', 'Vehicle Style',\n",
       "       'highway MPG', 'city mpg', 'Popularity', 'MSRP'],\n",
       "      dtype='object')"
      ]
     },
     "execution_count": 6,
     "metadata": {},
     "output_type": "execute_result"
    }
   ],
   "source": [
    "df.columns"
   ]
  },
  {
   "cell_type": "code",
   "execution_count": 7,
   "metadata": {
    "colab": {
     "base_uri": "https://localhost:8080/"
    },
    "executionInfo": {
     "elapsed": 5,
     "status": "ok",
     "timestamp": 1663710302554,
     "user": {
      "displayName": "Luciano Ceballos",
      "userId": "14799096369180886526"
     },
     "user_tz": 180
    },
    "id": "oghFp-N23GrN",
    "outputId": "eeb8256b-64bb-473c-f01e-8928e6b6b925"
   },
   "outputs": [
    {
     "data": {
      "text/plain": [
       "Index(['make', 'model', 'year', 'engine fuel type', 'engine hp',\n",
       "       'engine cylinders', 'transmission type', 'driven_wheels',\n",
       "       'number of doors', 'market category', 'vehicle size', 'vehicle style',\n",
       "       'highway mpg', 'city mpg', 'popularity', 'msrp'],\n",
       "      dtype='object')"
      ]
     },
     "execution_count": 7,
     "metadata": {},
     "output_type": "execute_result"
    }
   ],
   "source": [
    "df.columns.str.lower()"
   ]
  },
  {
   "cell_type": "code",
   "execution_count": 8,
   "metadata": {
    "colab": {
     "base_uri": "https://localhost:8080/"
    },
    "executionInfo": {
     "elapsed": 244,
     "status": "ok",
     "timestamp": 1663710335894,
     "user": {
      "displayName": "Luciano Ceballos",
      "userId": "14799096369180886526"
     },
     "user_tz": 180
    },
    "id": "JlXUg1di3Jvn",
    "outputId": "c551a3d2-6a50-4b7f-e0e8-9befd1de0b14"
   },
   "outputs": [
    {
     "data": {
      "text/plain": [
       "Index(['make', 'model', 'year', 'engine_fuel_type', 'engine_hp',\n",
       "       'engine_cylinders', 'transmission_type', 'driven_wheels',\n",
       "       'number_of_doors', 'market_category', 'vehicle_size', 'vehicle_style',\n",
       "       'highway_mpg', 'city_mpg', 'popularity', 'msrp'],\n",
       "      dtype='object')"
      ]
     },
     "execution_count": 8,
     "metadata": {},
     "output_type": "execute_result"
    }
   ],
   "source": [
    "df.columns.str.lower().str.replace(\" \",\"_\")"
   ]
  },
  {
   "cell_type": "code",
   "execution_count": 9,
   "metadata": {
    "colab": {
     "base_uri": "https://localhost:8080/"
    },
    "executionInfo": {
     "elapsed": 266,
     "status": "ok",
     "timestamp": 1663710401985,
     "user": {
      "displayName": "Luciano Ceballos",
      "userId": "14799096369180886526"
     },
     "user_tz": 180
    },
    "id": "ROfkXfIk3fzE",
    "outputId": "f710b290-f0cc-4f29-f9e8-7bed218d0a83"
   },
   "outputs": [
    {
     "data": {
      "text/plain": [
       "Make                  object\n",
       "Model                 object\n",
       "Year                   int64\n",
       "Engine Fuel Type      object\n",
       "Engine HP            float64\n",
       "Engine Cylinders     float64\n",
       "Transmission Type     object\n",
       "Driven_Wheels         object\n",
       "Number of Doors      float64\n",
       "Market Category       object\n",
       "Vehicle Size          object\n",
       "Vehicle Style         object\n",
       "highway MPG            int64\n",
       "city mpg               int64\n",
       "Popularity             int64\n",
       "MSRP                   int64\n",
       "dtype: object"
      ]
     },
     "execution_count": 9,
     "metadata": {},
     "output_type": "execute_result"
    }
   ],
   "source": [
    "df.dtypes"
   ]
  },
  {
   "cell_type": "code",
   "execution_count": 10,
   "metadata": {
    "colab": {
     "base_uri": "https://localhost:8080/"
    },
    "executionInfo": {
     "elapsed": 234,
     "status": "ok",
     "timestamp": 1663710483399,
     "user": {
      "displayName": "Luciano Ceballos",
      "userId": "14799096369180886526"
     },
     "user_tz": 180
    },
    "id": "9Q3ygfSB3uVT",
    "outputId": "e42e9692-99d4-4c53-e130-44f099c96f3b"
   },
   "outputs": [
    {
     "data": {
      "text/plain": [
       "Make                  True\n",
       "Model                 True\n",
       "Year                 False\n",
       "Engine Fuel Type      True\n",
       "Engine HP            False\n",
       "Engine Cylinders     False\n",
       "Transmission Type     True\n",
       "Driven_Wheels         True\n",
       "Number of Doors      False\n",
       "Market Category       True\n",
       "Vehicle Size          True\n",
       "Vehicle Style         True\n",
       "highway MPG          False\n",
       "city mpg             False\n",
       "Popularity           False\n",
       "MSRP                 False\n",
       "dtype: bool"
      ]
     },
     "execution_count": 10,
     "metadata": {},
     "output_type": "execute_result"
    }
   ],
   "source": [
    "df.dtypes == 'object'"
   ]
  },
  {
   "cell_type": "code",
   "execution_count": 11,
   "metadata": {
    "colab": {
     "base_uri": "https://localhost:8080/"
    },
    "executionInfo": {
     "elapsed": 8,
     "status": "ok",
     "timestamp": 1663710506937,
     "user": {
      "displayName": "Luciano Ceballos",
      "userId": "14799096369180886526"
     },
     "user_tz": 180
    },
    "id": "tGbPa6rE32dK",
    "outputId": "3d267a8f-dce2-4afc-e75c-954834489da9"
   },
   "outputs": [
    {
     "data": {
      "text/plain": [
       "Make                 object\n",
       "Model                object\n",
       "Engine Fuel Type     object\n",
       "Transmission Type    object\n",
       "Driven_Wheels        object\n",
       "Market Category      object\n",
       "Vehicle Size         object\n",
       "Vehicle Style        object\n",
       "dtype: object"
      ]
     },
     "execution_count": 11,
     "metadata": {},
     "output_type": "execute_result"
    }
   ],
   "source": [
    "df.dtypes[df.dtypes == 'object']"
   ]
  },
  {
   "cell_type": "code",
   "execution_count": 31,
   "metadata": {
    "colab": {
     "base_uri": "https://localhost:8080/"
    },
    "executionInfo": {
     "elapsed": 322,
     "status": "ok",
     "timestamp": 1663711029318,
     "user": {
      "displayName": "Luciano Ceballos",
      "userId": "14799096369180886526"
     },
     "user_tz": 180
    },
    "id": "qkcrC-Dm4ICl",
    "outputId": "d5fb3d9c-22ca-40b0-e36b-4907d62bd494"
   },
   "outputs": [
    {
     "data": {
      "text/plain": [
       "['Make',\n",
       " 'Model',\n",
       " 'Engine Fuel Type',\n",
       " 'Transmission Type',\n",
       " 'Driven_Wheels',\n",
       " 'Market Category',\n",
       " 'Vehicle Size',\n",
       " 'Vehicle Style']"
      ]
     },
     "execution_count": 31,
     "metadata": {},
     "output_type": "execute_result"
    }
   ],
   "source": [
    "strings = list(df.dtypes[df.dtypes == 'object'].index)\n",
    "strings"
   ]
  },
  {
   "cell_type": "code",
   "execution_count": 32,
   "metadata": {
    "executionInfo": {
     "elapsed": 260,
     "status": "ok",
     "timestamp": 1663711031648,
     "user": {
      "displayName": "Luciano Ceballos",
      "userId": "14799096369180886526"
     },
     "user_tz": 180
    },
    "id": "3pOcP0BD4eY1"
   },
   "outputs": [],
   "source": [
    "for col in strings:\n",
    "  df[col] = df[col].str.lower().str.replace(' ','_')"
   ]
  },
  {
   "cell_type": "code",
   "execution_count": 33,
   "metadata": {
    "colab": {
     "base_uri": "https://localhost:8080/"
    },
    "executionInfo": {
     "elapsed": 259,
     "status": "ok",
     "timestamp": 1663711034106,
     "user": {
      "displayName": "Luciano Ceballos",
      "userId": "14799096369180886526"
     },
     "user_tz": 180
    },
    "id": "KWbIGHvD40Kh",
    "outputId": "79ebe6a6-058f-4e44-afe7-0f814687af55"
   },
   "outputs": [
    {
     "name": "stdout",
     "output_type": "stream",
     "text": [
      "  Make       Model  Year             Engine Fuel Type  Engine HP  \\\n",
      "0  bmw  1_series_m  2011  premium_unleaded_(required)      335.0   \n",
      "1  bmw    1_series  2011  premium_unleaded_(required)      300.0   \n",
      "2  bmw    1_series  2011  premium_unleaded_(required)      300.0   \n",
      "3  bmw    1_series  2011  premium_unleaded_(required)      230.0   \n",
      "4  bmw    1_series  2011  premium_unleaded_(required)      230.0   \n",
      "\n",
      "   Engine Cylinders Transmission Type     Driven_Wheels  Number of Doors  \\\n",
      "0               6.0            manual  rear_wheel_drive              2.0   \n",
      "1               6.0            manual  rear_wheel_drive              2.0   \n",
      "2               6.0            manual  rear_wheel_drive              2.0   \n",
      "3               6.0            manual  rear_wheel_drive              2.0   \n",
      "4               6.0            manual  rear_wheel_drive              2.0   \n",
      "\n",
      "                         Market Category Vehicle Size Vehicle Style  \\\n",
      "0  factory_tuner,luxury,high-performance      compact         coupe   \n",
      "1                     luxury,performance      compact   convertible   \n",
      "2                luxury,high-performance      compact         coupe   \n",
      "3                     luxury,performance      compact         coupe   \n",
      "4                                 luxury      compact   convertible   \n",
      "\n",
      "   highway MPG  city mpg  Popularity   MSRP  \n",
      "0           26        19        3916  46135  \n",
      "1           28        19        3916  40650  \n",
      "2           28        20        3916  36350  \n",
      "3           28        18        3916  29450  \n",
      "4           28        18        3916  34500  \n"
     ]
    }
   ],
   "source": [
    "print(df.head())"
   ]
  },
  {
   "cell_type": "markdown",
   "metadata": {
    "id": "ZnFJMNCa2pw9"
   },
   "source": [
    "## 2.3 Exporatory data analysis"
   ]
  },
  {
   "cell_type": "code",
   "execution_count": 35,
   "metadata": {
    "colab": {
     "base_uri": "https://localhost:8080/"
    },
    "executionInfo": {
     "elapsed": 251,
     "status": "ok",
     "timestamp": 1663711827379,
     "user": {
      "displayName": "Luciano Ceballos",
      "userId": "14799096369180886526"
     },
     "user_tz": 180
    },
    "id": "Ew59JBQq8D5O",
    "outputId": "de0696d3-0dde-4cf7-b44b-e81a410da997"
   },
   "outputs": [
    {
     "name": "stdout",
     "output_type": "stream",
     "text": [
      "Make\n",
      "['bmw' 'audi' 'fiat' 'mercedes-benz' 'chrysler']\n",
      "48\n",
      "\n",
      "Model\n",
      "['1_series_m' '1_series' '100' '124_spider' '190-class']\n",
      "914\n",
      "\n",
      "Year\n",
      "[2011 2012 2013 1992 1993]\n",
      "28\n",
      "\n",
      "Engine Fuel Type\n",
      "['premium_unleaded_(required)' 'regular_unleaded'\n",
      " 'premium_unleaded_(recommended)' 'flex-fuel_(unleaded/e85)' 'diesel']\n",
      "10\n",
      "\n",
      "Engine HP\n",
      "[335. 300. 230. 320. 172.]\n",
      "356\n",
      "\n",
      "Engine Cylinders\n",
      "[ 6.  4.  5.  8. 12.]\n",
      "9\n",
      "\n",
      "Transmission Type\n",
      "['manual' 'automatic' 'automated_manual' 'direct_drive' 'unknown']\n",
      "5\n",
      "\n",
      "Driven_Wheels\n",
      "['rear_wheel_drive' 'front_wheel_drive' 'all_wheel_drive'\n",
      " 'four_wheel_drive']\n",
      "4\n",
      "\n",
      "Number of Doors\n",
      "[ 2.  4.  3. nan]\n",
      "3\n",
      "\n",
      "Market Category\n",
      "['factory_tuner,luxury,high-performance' 'luxury,performance'\n",
      " 'luxury,high-performance' 'luxury' 'performance']\n",
      "71\n",
      "\n",
      "Vehicle Size\n",
      "['compact' 'midsize' 'large']\n",
      "3\n",
      "\n",
      "Vehicle Style\n",
      "['coupe' 'convertible' 'sedan' 'wagon' '4dr_hatchback']\n",
      "16\n",
      "\n",
      "highway MPG\n",
      "[26 28 27 25 24]\n",
      "59\n",
      "\n",
      "city mpg\n",
      "[19 20 18 17 16]\n",
      "69\n",
      "\n",
      "Popularity\n",
      "[3916 3105  819  617 1013]\n",
      "48\n",
      "\n",
      "MSRP\n",
      "[46135 40650 36350 29450 34500]\n",
      "6049\n",
      "\n"
     ]
    }
   ],
   "source": [
    "for col in df.columns:\n",
    "  print(col)\n",
    "  print(df[col].unique()[:5])\n",
    "  print(df[col].nunique())\n",
    "  print()"
   ]
  },
  {
   "cell_type": "markdown",
   "metadata": {
    "id": "UJ96e2SN9ezR"
   },
   "source": [
    "Distribution of price"
   ]
  },
  {
   "cell_type": "code",
   "execution_count": 43,
   "metadata": {
    "executionInfo": {
     "elapsed": 239,
     "status": "ok",
     "timestamp": 1663713064379,
     "user": {
      "displayName": "Luciano Ceballos",
      "userId": "14799096369180886526"
     },
     "user_tz": 180
    },
    "id": "Y2KrX4Mf9gzD"
   },
   "outputs": [],
   "source": [
    "import matplotlib.pyplot as plt\n",
    "import seaborn as sns\n",
    "import numpy as np\n",
    "\n",
    "%matplotlib inline"
   ]
  },
  {
   "cell_type": "code",
   "execution_count": 40,
   "metadata": {
    "colab": {
     "base_uri": "https://localhost:8080/",
     "height": 296
    },
    "executionInfo": {
     "elapsed": 425,
     "status": "ok",
     "timestamp": 1663712419536,
     "user": {
      "displayName": "Luciano Ceballos",
      "userId": "14799096369180886526"
     },
     "user_tz": 180
    },
    "id": "QyxTIUSZ9zBR",
    "outputId": "2c4687db-c045-44f5-dcd2-b5b666a35689"
   },
   "outputs": [
    {
     "data": {
      "text/plain": [
       "<matplotlib.axes._subplots.AxesSubplot at 0x7f7cf0c92e90>"
      ]
     },
     "execution_count": 40,
     "metadata": {},
     "output_type": "execute_result"
    },
    {
     "data": {
      "image/png": "[encoded data removed]",
      "text/plain": [
       "<Figure size 432x288 with 1 Axes>"
      ]
     },
     "metadata": {
      "needs_background": "light"
     },
     "output_type": "display_data"
    }
   ],
   "source": [
    "sns.histplot(df.MSRP, bins=50)"
   ]
  },
  {
   "cell_type": "code",
   "execution_count": 41,
   "metadata": {
    "colab": {
     "base_uri": "https://localhost:8080/",
     "height": 296
    },
    "executionInfo": {
     "elapsed": 768,
     "status": "ok",
     "timestamp": 1663712510150,
     "user": {
      "displayName": "Luciano Ceballos",
      "userId": "14799096369180886526"
     },
     "user_tz": 180
    },
    "id": "CwP8GShm2ouv",
    "outputId": "059703a1-efc8-48a3-ca79-813ef91b8144"
   },
   "outputs": [
    {
     "data": {
      "text/plain": [
       "<matplotlib.axes._subplots.AxesSubplot at 0x7f7cf06c12d0>"
      ]
     },
     "execution_count": 41,
     "metadata": {},
     "output_type": "execute_result"
    },
    {
     "data": {
      "image/png": "[encoded data removed]",
      "text/plain": [
       "<Figure size 432x288 with 1 Axes>"
      ]
     },
     "metadata": {
      "needs_background": "light"
     },
     "output_type": "display_data"
    }
   ],
   "source": [
    "sns.histplot(df.MSRP[df.MSRP < 100000], bins=50)"
   ]
  },
  {
   "cell_type": "code",
   "execution_count": 45,
   "metadata": {
    "colab": {
     "base_uri": "https://localhost:8080/"
    },
    "executionInfo": {
     "elapsed": 5,
     "status": "ok",
     "timestamp": 1663713132696,
     "user": {
      "displayName": "Luciano Ceballos",
      "userId": "14799096369180886526"
     },
     "user_tz": 180
    },
    "id": "lJaylsznBVep",
    "outputId": "3f286c6d-d01a-4594-ca36-be0ae4ca9e48"
   },
   "outputs": [
    {
     "data": {
      "text/plain": [
       "array([ 0.69314718,  2.39789527,  6.90875478, 11.51293546])"
      ]
     },
     "execution_count": 45,
     "metadata": {},
     "output_type": "execute_result"
    }
   ],
   "source": [
    "np.log1p([1,10,1000,100000])"
   ]
  },
  {
   "cell_type": "code",
   "execution_count": 46,
   "metadata": {
    "executionInfo": {
     "elapsed": 227,
     "status": "ok",
     "timestamp": 1663713191528,
     "user": {
      "displayName": "Luciano Ceballos",
      "userId": "14799096369180886526"
     },
     "user_tz": 180
    },
    "id": "HUA9haThCFl8"
   },
   "outputs": [],
   "source": [
    "price_logs = np.log1p(df.MSRP)"
   ]
  },
  {
   "cell_type": "code",
   "execution_count": 47,
   "metadata": {
    "colab": {
     "base_uri": "https://localhost:8080/",
     "height": 296
    },
    "executionInfo": {
     "elapsed": 677,
     "status": "ok",
     "timestamp": 1663713218860,
     "user": {
      "displayName": "Luciano Ceballos",
      "userId": "14799096369180886526"
     },
     "user_tz": 180
    },
    "id": "glJw16z6CMRT",
    "outputId": "67b5ebed-6ea2-4386-948c-32629180f15f"
   },
   "outputs": [
    {
     "data": {
      "text/plain": [
       "<matplotlib.axes._subplots.AxesSubplot at 0x7f7cf11cbb10>"
      ]
     },
     "execution_count": 47,
     "metadata": {},
     "output_type": "execute_result"
    },
    {
     "data": {
      "image/png": "[encoded data removed]",
      "text/plain": [
       "<Figure size 432x288 with 1 Axes>"
      ]
     },
     "metadata": {
      "needs_background": "light"
     },
     "output_type": "display_data"
    }
   ],
   "source": [
    "sns.histplot(price_logs, bins = 50)"
   ]
  },
  {
   "cell_type": "markdown",
   "metadata": {
    "id": "ewCUxQk0CoGv"
   },
   "source": [
    "Missing values"
   ]
  },
  {
   "cell_type": "code",
   "execution_count": 49,
   "metadata": {
    "colab": {
     "base_uri": "https://localhost:8080/"
    },
    "executionInfo": {
     "elapsed": 5,
     "status": "ok",
     "timestamp": 1663713407131,
     "user": {
      "displayName": "Luciano Ceballos",
      "userId": "14799096369180886526"
     },
     "user_tz": 180
    },
    "id": "GOvkGyioCp9I",
    "outputId": "0f74c579-3e18-491e-9c72-f30739d20235"
   },
   "outputs": [
    {
     "data": {
      "text/plain": [
       "Make                    0\n",
       "Model                   0\n",
       "Year                    0\n",
       "Engine Fuel Type        3\n",
       "Engine HP              69\n",
       "Engine Cylinders       30\n",
       "Transmission Type       0\n",
       "Driven_Wheels           0\n",
       "Number of Doors         6\n",
       "Market Category      3742\n",
       "Vehicle Size            0\n",
       "Vehicle Style           0\n",
       "highway MPG             0\n",
       "city mpg                0\n",
       "Popularity              0\n",
       "MSRP                    0\n",
       "dtype: int64"
      ]
     },
     "execution_count": 49,
     "metadata": {},
     "output_type": "execute_result"
    }
   ],
   "source": [
    "df.isnull().sum()"
   ]
  },
  {
   "cell_type": "markdown",
   "metadata": {
    "id": "3dPJ837bDEBb"
   },
   "source": [
    "## 2.4 Seting up the validation framework"
   ]
  },
  {
   "cell_type": "code",
   "execution_count": 56,
   "metadata": {
    "executionInfo": {
     "elapsed": 4,
     "status": "ok",
     "timestamp": 1663714343321,
     "user": {
      "displayName": "Luciano Ceballos",
      "userId": "14799096369180886526"
     },
     "user_tz": 180
    },
    "id": "eRtbJfxeDIRe"
   },
   "outputs": [],
   "source": [
    "n =len(df)"
   ]
  },
  {
   "cell_type": "code",
   "execution_count": 57,
   "metadata": {
    "executionInfo": {
     "elapsed": 241,
     "status": "ok",
     "timestamp": 1663714346913,
     "user": {
      "displayName": "Luciano Ceballos",
      "userId": "14799096369180886526"
     },
     "user_tz": 180
    },
    "id": "4Yct4l_RGSSD"
   },
   "outputs": [],
   "source": [
    "n_val = int(n * 0.2)\n",
    "n_test = int(n * 0.2)\n",
    "n_train = n - n_val - n_test"
   ]
  },
  {
   "cell_type": "code",
   "execution_count": 58,
   "metadata": {
    "colab": {
     "base_uri": "https://localhost:8080/"
    },
    "executionInfo": {
     "elapsed": 250,
     "status": "ok",
     "timestamp": 1663714363950,
     "user": {
      "displayName": "Luciano Ceballos",
      "userId": "14799096369180886526"
     },
     "user_tz": 180
    },
    "id": "ay0oQsgSGlgP",
    "outputId": "acbde09b-cb93-47e2-cdc3-0033818dbc65"
   },
   "outputs": [
    {
     "data": {
      "text/plain": [
       "(2382, 2382, 7150)"
      ]
     },
     "execution_count": 58,
     "metadata": {},
     "output_type": "execute_result"
    }
   ],
   "source": [
    "n_val , n_test, n_train"
   ]
  },
  {
   "cell_type": "code",
   "execution_count": 61,
   "metadata": {
    "executionInfo": {
     "elapsed": 250,
     "status": "ok",
     "timestamp": 1663714745886,
     "user": {
      "displayName": "Luciano Ceballos",
      "userId": "14799096369180886526"
     },
     "user_tz": 180
    },
    "id": "dX4NE30cGqsJ"
   },
   "outputs": [],
   "source": [
    "df_train = df.iloc[n_train:]\n",
    "df_val = df.iloc[n_train:n_train+n_val]\n",
    "df_test = df.iloc[n_train+n_val:]\n"
   ]
  },
  {
   "cell_type": "code",
   "execution_count": 62,
   "metadata": {
    "colab": {
     "base_uri": "https://localhost:8080/",
     "height": 540
    },
    "executionInfo": {
     "elapsed": 280,
     "status": "ok",
     "timestamp": 1663714770208,
     "user": {
      "displayName": "Luciano Ceballos",
      "userId": "14799096369180886526"
     },
     "user_tz": 180
    },
    "id": "d8usPcvEHBNp",
    "outputId": "a755b4ae-4c8d-48b8-f9ff-d03a5239bb5a"
   },
   "outputs": [
    {
     "data": {
      "text/html": [
       "\n",
       "  <div id=\"df-43a9bc36-7ee8-4c31-89ad-835af1c41818\">\n",
       "    <div class=\"colab-df-container\">\n",
       "      <div>\n",
       "<style scoped>\n",
       "    .dataframe tbody tr th:only-of-type {\n",
       "        vertical-align: middle;\n",
       "    }\n",
       "\n",
       "    .dataframe tbody tr th {\n",
       "        vertical-align: top;\n",
       "    }\n",
       "\n",
       "    .dataframe thead th {\n",
       "        text-align: right;\n",
       "    }\n",
       "</style>\n",
       "<table border=\"1\" class=\"dataframe\">\n",
       "  <thead>\n",
       "    <tr style=\"text-align: right;\">\n",
       "      <th></th>\n",
       "      <th>Make</th>\n",
       "      <th>Model</th>\n",
       "      <th>Year</th>\n",
       "      <th>Engine Fuel Type</th>\n",
       "      <th>Engine HP</th>\n",
       "      <th>Engine Cylinders</th>\n",
       "      <th>Transmission Type</th>\n",
       "      <th>Driven_Wheels</th>\n",
       "      <th>Number of Doors</th>\n",
       "      <th>Market Category</th>\n",
       "      <th>Vehicle Size</th>\n",
       "      <th>Vehicle Style</th>\n",
       "      <th>highway MPG</th>\n",
       "      <th>city mpg</th>\n",
       "      <th>Popularity</th>\n",
       "      <th>MSRP</th>\n",
       "    </tr>\n",
       "  </thead>\n",
       "  <tbody>\n",
       "    <tr>\n",
       "      <th>7150</th>\n",
       "      <td>lincoln</td>\n",
       "      <td>navigator</td>\n",
       "      <td>2015</td>\n",
       "      <td>regular_unleaded</td>\n",
       "      <td>365.0</td>\n",
       "      <td>6.0</td>\n",
       "      <td>automatic</td>\n",
       "      <td>rear_wheel_drive</td>\n",
       "      <td>4.0</td>\n",
       "      <td>luxury</td>\n",
       "      <td>large</td>\n",
       "      <td>4dr_suv</td>\n",
       "      <td>20</td>\n",
       "      <td>15</td>\n",
       "      <td>61</td>\n",
       "      <td>63645</td>\n",
       "    </tr>\n",
       "    <tr>\n",
       "      <th>7151</th>\n",
       "      <td>lincoln</td>\n",
       "      <td>navigator</td>\n",
       "      <td>2016</td>\n",
       "      <td>regular_unleaded</td>\n",
       "      <td>380.0</td>\n",
       "      <td>6.0</td>\n",
       "      <td>automatic</td>\n",
       "      <td>rear_wheel_drive</td>\n",
       "      <td>4.0</td>\n",
       "      <td>luxury</td>\n",
       "      <td>large</td>\n",
       "      <td>4dr_suv</td>\n",
       "      <td>22</td>\n",
       "      <td>16</td>\n",
       "      <td>61</td>\n",
       "      <td>63195</td>\n",
       "    </tr>\n",
       "    <tr>\n",
       "      <th>7152</th>\n",
       "      <td>lincoln</td>\n",
       "      <td>navigator</td>\n",
       "      <td>2016</td>\n",
       "      <td>regular_unleaded</td>\n",
       "      <td>380.0</td>\n",
       "      <td>6.0</td>\n",
       "      <td>automatic</td>\n",
       "      <td>four_wheel_drive</td>\n",
       "      <td>4.0</td>\n",
       "      <td>luxury</td>\n",
       "      <td>large</td>\n",
       "      <td>4dr_suv</td>\n",
       "      <td>19</td>\n",
       "      <td>15</td>\n",
       "      <td>61</td>\n",
       "      <td>76650</td>\n",
       "    </tr>\n",
       "    <tr>\n",
       "      <th>7153</th>\n",
       "      <td>lincoln</td>\n",
       "      <td>navigator</td>\n",
       "      <td>2016</td>\n",
       "      <td>regular_unleaded</td>\n",
       "      <td>380.0</td>\n",
       "      <td>6.0</td>\n",
       "      <td>automatic</td>\n",
       "      <td>four_wheel_drive</td>\n",
       "      <td>4.0</td>\n",
       "      <td>luxury</td>\n",
       "      <td>large</td>\n",
       "      <td>4dr_suv</td>\n",
       "      <td>19</td>\n",
       "      <td>15</td>\n",
       "      <td>61</td>\n",
       "      <td>69135</td>\n",
       "    </tr>\n",
       "    <tr>\n",
       "      <th>7154</th>\n",
       "      <td>lincoln</td>\n",
       "      <td>navigator</td>\n",
       "      <td>2016</td>\n",
       "      <td>regular_unleaded</td>\n",
       "      <td>380.0</td>\n",
       "      <td>6.0</td>\n",
       "      <td>automatic</td>\n",
       "      <td>rear_wheel_drive</td>\n",
       "      <td>4.0</td>\n",
       "      <td>luxury</td>\n",
       "      <td>large</td>\n",
       "      <td>4dr_suv</td>\n",
       "      <td>20</td>\n",
       "      <td>15</td>\n",
       "      <td>61</td>\n",
       "      <td>65560</td>\n",
       "    </tr>\n",
       "    <tr>\n",
       "      <th>...</th>\n",
       "      <td>...</td>\n",
       "      <td>...</td>\n",
       "      <td>...</td>\n",
       "      <td>...</td>\n",
       "      <td>...</td>\n",
       "      <td>...</td>\n",
       "      <td>...</td>\n",
       "      <td>...</td>\n",
       "      <td>...</td>\n",
       "      <td>...</td>\n",
       "      <td>...</td>\n",
       "      <td>...</td>\n",
       "      <td>...</td>\n",
       "      <td>...</td>\n",
       "      <td>...</td>\n",
       "      <td>...</td>\n",
       "    </tr>\n",
       "    <tr>\n",
       "      <th>9527</th>\n",
       "      <td>chevrolet</td>\n",
       "      <td>silverado_1500</td>\n",
       "      <td>2015</td>\n",
       "      <td>flex-fuel_(unleaded/e85)</td>\n",
       "      <td>285.0</td>\n",
       "      <td>6.0</td>\n",
       "      <td>automatic</td>\n",
       "      <td>four_wheel_drive</td>\n",
       "      <td>4.0</td>\n",
       "      <td>flex_fuel</td>\n",
       "      <td>large</td>\n",
       "      <td>crew_cab_pickup</td>\n",
       "      <td>22</td>\n",
       "      <td>17</td>\n",
       "      <td>1385</td>\n",
       "      <td>37380</td>\n",
       "    </tr>\n",
       "    <tr>\n",
       "      <th>9528</th>\n",
       "      <td>chevrolet</td>\n",
       "      <td>silverado_1500</td>\n",
       "      <td>2015</td>\n",
       "      <td>regular_unleaded</td>\n",
       "      <td>355.0</td>\n",
       "      <td>8.0</td>\n",
       "      <td>automatic</td>\n",
       "      <td>rear_wheel_drive</td>\n",
       "      <td>4.0</td>\n",
       "      <td>NaN</td>\n",
       "      <td>large</td>\n",
       "      <td>extended_cab_pickup</td>\n",
       "      <td>23</td>\n",
       "      <td>16</td>\n",
       "      <td>1385</td>\n",
       "      <td>40100</td>\n",
       "    </tr>\n",
       "    <tr>\n",
       "      <th>9529</th>\n",
       "      <td>chevrolet</td>\n",
       "      <td>silverado_1500</td>\n",
       "      <td>2015</td>\n",
       "      <td>regular_unleaded</td>\n",
       "      <td>355.0</td>\n",
       "      <td>8.0</td>\n",
       "      <td>automatic</td>\n",
       "      <td>rear_wheel_drive</td>\n",
       "      <td>4.0</td>\n",
       "      <td>NaN</td>\n",
       "      <td>large</td>\n",
       "      <td>crew_cab_pickup</td>\n",
       "      <td>23</td>\n",
       "      <td>16</td>\n",
       "      <td>1385</td>\n",
       "      <td>42560</td>\n",
       "    </tr>\n",
       "    <tr>\n",
       "      <th>9530</th>\n",
       "      <td>chevrolet</td>\n",
       "      <td>silverado_1500</td>\n",
       "      <td>2015</td>\n",
       "      <td>regular_unleaded</td>\n",
       "      <td>355.0</td>\n",
       "      <td>8.0</td>\n",
       "      <td>automatic</td>\n",
       "      <td>rear_wheel_drive</td>\n",
       "      <td>4.0</td>\n",
       "      <td>NaN</td>\n",
       "      <td>large</td>\n",
       "      <td>crew_cab_pickup</td>\n",
       "      <td>23</td>\n",
       "      <td>16</td>\n",
       "      <td>1385</td>\n",
       "      <td>42860</td>\n",
       "    </tr>\n",
       "    <tr>\n",
       "      <th>9531</th>\n",
       "      <td>chevrolet</td>\n",
       "      <td>silverado_1500</td>\n",
       "      <td>2015</td>\n",
       "      <td>regular_unleaded</td>\n",
       "      <td>355.0</td>\n",
       "      <td>8.0</td>\n",
       "      <td>automatic</td>\n",
       "      <td>four_wheel_drive</td>\n",
       "      <td>4.0</td>\n",
       "      <td>NaN</td>\n",
       "      <td>large</td>\n",
       "      <td>crew_cab_pickup</td>\n",
       "      <td>22</td>\n",
       "      <td>16</td>\n",
       "      <td>1385</td>\n",
       "      <td>45120</td>\n",
       "    </tr>\n",
       "  </tbody>\n",
       "</table>\n",
       "<p>2382 rows × 16 columns</p>\n",
       "</div>\n",
       "      <button class=\"colab-df-convert\" onclick=\"convertToInteractive('df-43a9bc36-7ee8-4c31-89ad-835af1c41818')\"\n",
       "              title=\"Convert this dataframe to an interactive table.\"\n",
       "              style=\"display:none;\">\n",
       "        \n",
       "  <svg xmlns=\"http://www.w3.org/2000/svg\" height=\"24px\"viewBox=\"0 0 24 24\"\n",
       "       width=\"24px\">\n",
       "    <path d=\"M0 0h24v24H0V0z\" fill=\"none\"/>\n",
       "    <path d=\"M18.56 5.44l.94 2.06.94-2.06 2.06-.94-2.06-.94-.94-2.06-.94 2.06-2.06.94zm-11 1L8.5 8.5l.94-2.06 2.06-.94-2.06-.94L8.5 2.5l-.94 2.06-2.06.94zm10 10l.94 2.06.94-2.06 2.06-.94-2.06-.94-.94-2.06-.94 2.06-2.06.94z\"/><path d=\"M17.41 7.96l-1.37-1.37c-.4-.4-.92-.59-1.43-.59-.52 0-1.04.2-1.43.59L10.3 9.45l-7.72 7.72c-.78.78-.78 2.05 0 2.83L4 21.41c.39.39.9.59 1.41.59.51 0 1.02-.2 1.41-.59l7.78-7.78 2.81-2.81c.8-.78.8-2.07 0-2.86zM5.41 20L4 18.59l7.72-7.72 1.47 1.35L5.41 20z\"/>\n",
       "  </svg>\n",
       "      </button>\n",
       "      \n",
       "  <style>\n",
       "    .colab-df-container {\n",
       "      display:flex;\n",
       "      flex-wrap:wrap;\n",
       "      gap: 12px;\n",
       "    }\n",
       "\n",
       "    .colab-df-convert {\n",
       "      background-color: #E8F0FE;\n",
       "      border: none;\n",
       "      border-radius: 50%;\n",
       "      cursor: pointer;\n",
       "      display: none;\n",
       "      fill: #1967D2;\n",
       "      height: 32px;\n",
       "      padding: 0 0 0 0;\n",
       "      width: 32px;\n",
       "    }\n",
       "\n",
       "    .colab-df-convert:hover {\n",
       "      background-color: #E2EBFA;\n",
       "      box-shadow: 0px 1px 2px rgba(60, 64, 67, 0.3), 0px 1px 3px 1px rgba(60, 64, 67, 0.15);\n",
       "      fill: #174EA6;\n",
       "    }\n",
       "\n",
       "    [theme=dark] .colab-df-convert {\n",
       "      background-color: #3B4455;\n",
       "      fill: #D2E3FC;\n",
       "    }\n",
       "\n",
       "    [theme=dark] .colab-df-convert:hover {\n",
       "      background-color: #434B5C;\n",
       "      box-shadow: 0px 1px 3px 1px rgba(0, 0, 0, 0.15);\n",
       "      filter: drop-shadow(0px 1px 2px rgba(0, 0, 0, 0.3));\n",
       "      fill: #FFFFFF;\n",
       "    }\n",
       "  </style>\n",
       "\n",
       "      <script>\n",
       "        const buttonEl =\n",
       "          document.querySelector('#df-43a9bc36-7ee8-4c31-89ad-835af1c41818 button.colab-df-convert');\n",
       "        buttonEl.style.display =\n",
       "          google.colab.kernel.accessAllowed ? 'block' : 'none';\n",
       "\n",
       "        async function convertToInteractive(key) {\n",
       "          const element = document.querySelector('#df-43a9bc36-7ee8-4c31-89ad-835af1c41818');\n",
       "          const dataTable =\n",
       "            await google.colab.kernel.invokeFunction('convertToInteractive',\n",
       "                                                     [key], {});\n",
       "          if (!dataTable) return;\n",
       "\n",
       "          const docLinkHtml = 'Like what you see? Visit the ' +\n",
       "            '<a target=\"_blank\" href=https://colab.research.google.com/notebooks/data_table.ipynb>data table notebook</a>'\n",
       "            + ' to learn more about interactive tables.';\n",
       "          element.innerHTML = '';\n",
       "          dataTable['output_type'] = 'display_data';\n",
       "          await google.colab.output.renderOutput(dataTable, element);\n",
       "          const docLink = document.createElement('div');\n",
       "          docLink.innerHTML = docLinkHtml;\n",
       "          element.appendChild(docLink);\n",
       "        }\n",
       "      </script>\n",
       "    </div>\n",
       "  </div>\n",
       "  "
      ],
      "text/plain": [
       "           Make           Model  Year          Engine Fuel Type  Engine HP  \\\n",
       "7150    lincoln       navigator  2015          regular_unleaded      365.0   \n",
       "7151    lincoln       navigator  2016          regular_unleaded      380.0   \n",
       "7152    lincoln       navigator  2016          regular_unleaded      380.0   \n",
       "7153    lincoln       navigator  2016          regular_unleaded      380.0   \n",
       "7154    lincoln       navigator  2016          regular_unleaded      380.0   \n",
       "...         ...             ...   ...                       ...        ...   \n",
       "9527  chevrolet  silverado_1500  2015  flex-fuel_(unleaded/e85)      285.0   \n",
       "9528  chevrolet  silverado_1500  2015          regular_unleaded      355.0   \n",
       "9529  chevrolet  silverado_1500  2015          regular_unleaded      355.0   \n",
       "9530  chevrolet  silverado_1500  2015          regular_unleaded      355.0   \n",
       "9531  chevrolet  silverado_1500  2015          regular_unleaded      355.0   \n",
       "\n",
       "      Engine Cylinders Transmission Type     Driven_Wheels  Number of Doors  \\\n",
       "7150               6.0         automatic  rear_wheel_drive              4.0   \n",
       "7151               6.0         automatic  rear_wheel_drive              4.0   \n",
       "7152               6.0         automatic  four_wheel_drive              4.0   \n",
       "7153               6.0         automatic  four_wheel_drive              4.0   \n",
       "7154               6.0         automatic  rear_wheel_drive              4.0   \n",
       "...                ...               ...               ...              ...   \n",
       "9527               6.0         automatic  four_wheel_drive              4.0   \n",
       "9528               8.0         automatic  rear_wheel_drive              4.0   \n",
       "9529               8.0         automatic  rear_wheel_drive              4.0   \n",
       "9530               8.0         automatic  rear_wheel_drive              4.0   \n",
       "9531               8.0         automatic  four_wheel_drive              4.0   \n",
       "\n",
       "     Market Category Vehicle Size        Vehicle Style  highway MPG  city mpg  \\\n",
       "7150          luxury        large              4dr_suv           20        15   \n",
       "7151          luxury        large              4dr_suv           22        16   \n",
       "7152          luxury        large              4dr_suv           19        15   \n",
       "7153          luxury        large              4dr_suv           19        15   \n",
       "7154          luxury        large              4dr_suv           20        15   \n",
       "...              ...          ...                  ...          ...       ...   \n",
       "9527       flex_fuel        large      crew_cab_pickup           22        17   \n",
       "9528             NaN        large  extended_cab_pickup           23        16   \n",
       "9529             NaN        large      crew_cab_pickup           23        16   \n",
       "9530             NaN        large      crew_cab_pickup           23        16   \n",
       "9531             NaN        large      crew_cab_pickup           22        16   \n",
       "\n",
       "      Popularity   MSRP  \n",
       "7150          61  63645  \n",
       "7151          61  63195  \n",
       "7152          61  76650  \n",
       "7153          61  69135  \n",
       "7154          61  65560  \n",
       "...          ...    ...  \n",
       "9527        1385  37380  \n",
       "9528        1385  40100  \n",
       "9529        1385  42560  \n",
       "9530        1385  42860  \n",
       "9531        1385  45120  \n",
       "\n",
       "[2382 rows x 16 columns]"
      ]
     },
     "execution_count": 62,
     "metadata": {},
     "output_type": "execute_result"
    }
   ],
   "source": [
    "df_val"
   ]
  },
  {
   "cell_type": "code",
   "execution_count": 63,
   "metadata": {
    "executionInfo": {
     "elapsed": 3,
     "status": "ok",
     "timestamp": 1663714788293,
     "user": {
      "displayName": "Luciano Ceballos",
      "userId": "14799096369180886526"
     },
     "user_tz": 180
    },
    "id": "JtKlhTf9INhP"
   },
   "outputs": [],
   "source": [
    "idx = np.arange(n)"
   ]
  },
  {
   "cell_type": "code",
   "execution_count": 65,
   "metadata": {
    "colab": {
     "base_uri": "https://localhost:8080/",
     "height": 479
    },
    "executionInfo": {
     "elapsed": 278,
     "status": "ok",
     "timestamp": 1663714855926,
     "user": {
      "displayName": "Luciano Ceballos",
      "userId": "14799096369180886526"
     },
     "user_tz": 180
    },
    "id": "0PK8k8GKIeNs",
    "outputId": "1a99a52e-6d12-4668-b0e0-468ed9582f75"
   },
   "outputs": [
    {
     "data": {
      "text/html": [
       "\n",
       "  <div id=\"df-f40efd72-68b1-4ebd-adca-ca34783f7b56\">\n",
       "    <div class=\"colab-df-container\">\n",
       "      <div>\n",
       "<style scoped>\n",
       "    .dataframe tbody tr th:only-of-type {\n",
       "        vertical-align: middle;\n",
       "    }\n",
       "\n",
       "    .dataframe tbody tr th {\n",
       "        vertical-align: top;\n",
       "    }\n",
       "\n",
       "    .dataframe thead th {\n",
       "        text-align: right;\n",
       "    }\n",
       "</style>\n",
       "<table border=\"1\" class=\"dataframe\">\n",
       "  <thead>\n",
       "    <tr style=\"text-align: right;\">\n",
       "      <th></th>\n",
       "      <th>Make</th>\n",
       "      <th>Model</th>\n",
       "      <th>Year</th>\n",
       "      <th>Engine Fuel Type</th>\n",
       "      <th>Engine HP</th>\n",
       "      <th>Engine Cylinders</th>\n",
       "      <th>Transmission Type</th>\n",
       "      <th>Driven_Wheels</th>\n",
       "      <th>Number of Doors</th>\n",
       "      <th>Market Category</th>\n",
       "      <th>Vehicle Size</th>\n",
       "      <th>Vehicle Style</th>\n",
       "      <th>highway MPG</th>\n",
       "      <th>city mpg</th>\n",
       "      <th>Popularity</th>\n",
       "      <th>MSRP</th>\n",
       "    </tr>\n",
       "  </thead>\n",
       "  <tbody>\n",
       "    <tr>\n",
       "      <th>3572</th>\n",
       "      <td>mitsubishi</td>\n",
       "      <td>diamante</td>\n",
       "      <td>2004</td>\n",
       "      <td>premium_unleaded_(required)</td>\n",
       "      <td>205.0</td>\n",
       "      <td>6.0</td>\n",
       "      <td>automatic</td>\n",
       "      <td>front_wheel_drive</td>\n",
       "      <td>4.0</td>\n",
       "      <td>NaN</td>\n",
       "      <td>midsize</td>\n",
       "      <td>sedan</td>\n",
       "      <td>23</td>\n",
       "      <td>15</td>\n",
       "      <td>436</td>\n",
       "      <td>24999</td>\n",
       "    </tr>\n",
       "    <tr>\n",
       "      <th>8962</th>\n",
       "      <td>gmc</td>\n",
       "      <td>safari</td>\n",
       "      <td>2004</td>\n",
       "      <td>regular_unleaded</td>\n",
       "      <td>190.0</td>\n",
       "      <td>6.0</td>\n",
       "      <td>automatic</td>\n",
       "      <td>all_wheel_drive</td>\n",
       "      <td>3.0</td>\n",
       "      <td>NaN</td>\n",
       "      <td>large</td>\n",
       "      <td>passenger_minivan</td>\n",
       "      <td>16</td>\n",
       "      <td>12</td>\n",
       "      <td>549</td>\n",
       "      <td>26195</td>\n",
       "    </tr>\n",
       "    <tr>\n",
       "      <th>10122</th>\n",
       "      <td>suzuki</td>\n",
       "      <td>sx4</td>\n",
       "      <td>2011</td>\n",
       "      <td>regular_unleaded</td>\n",
       "      <td>150.0</td>\n",
       "      <td>4.0</td>\n",
       "      <td>manual</td>\n",
       "      <td>front_wheel_drive</td>\n",
       "      <td>4.0</td>\n",
       "      <td>NaN</td>\n",
       "      <td>compact</td>\n",
       "      <td>sedan</td>\n",
       "      <td>32</td>\n",
       "      <td>23</td>\n",
       "      <td>481</td>\n",
       "      <td>16479</td>\n",
       "    </tr>\n",
       "    <tr>\n",
       "      <th>9250</th>\n",
       "      <td>toyota</td>\n",
       "      <td>sienna</td>\n",
       "      <td>2017</td>\n",
       "      <td>regular_unleaded</td>\n",
       "      <td>296.0</td>\n",
       "      <td>6.0</td>\n",
       "      <td>automatic</td>\n",
       "      <td>all_wheel_drive</td>\n",
       "      <td>4.0</td>\n",
       "      <td>NaN</td>\n",
       "      <td>large</td>\n",
       "      <td>passenger_minivan</td>\n",
       "      <td>24</td>\n",
       "      <td>18</td>\n",
       "      <td>2031</td>\n",
       "      <td>38520</td>\n",
       "    </tr>\n",
       "    <tr>\n",
       "      <th>4058</th>\n",
       "      <td>chevrolet</td>\n",
       "      <td>equinox</td>\n",
       "      <td>2015</td>\n",
       "      <td>regular_unleaded</td>\n",
       "      <td>182.0</td>\n",
       "      <td>4.0</td>\n",
       "      <td>automatic</td>\n",
       "      <td>front_wheel_drive</td>\n",
       "      <td>4.0</td>\n",
       "      <td>crossover,flex_fuel</td>\n",
       "      <td>compact</td>\n",
       "      <td>4dr_suv</td>\n",
       "      <td>32</td>\n",
       "      <td>22</td>\n",
       "      <td>1385</td>\n",
       "      <td>28170</td>\n",
       "    </tr>\n",
       "    <tr>\n",
       "      <th>8280</th>\n",
       "      <td>land_rover</td>\n",
       "      <td>range_rover_sport</td>\n",
       "      <td>2015</td>\n",
       "      <td>flex-fuel_(premium_unleaded_required/e85)</td>\n",
       "      <td>510.0</td>\n",
       "      <td>8.0</td>\n",
       "      <td>automatic</td>\n",
       "      <td>four_wheel_drive</td>\n",
       "      <td>4.0</td>\n",
       "      <td>flex_fuel,luxury,high-performance</td>\n",
       "      <td>midsize</td>\n",
       "      <td>4dr_suv</td>\n",
       "      <td>19</td>\n",
       "      <td>14</td>\n",
       "      <td>258</td>\n",
       "      <td>79995</td>\n",
       "    </tr>\n",
       "    <tr>\n",
       "      <th>4844</th>\n",
       "      <td>subaru</td>\n",
       "      <td>forester</td>\n",
       "      <td>2016</td>\n",
       "      <td>regular_unleaded</td>\n",
       "      <td>170.0</td>\n",
       "      <td>4.0</td>\n",
       "      <td>automatic</td>\n",
       "      <td>all_wheel_drive</td>\n",
       "      <td>4.0</td>\n",
       "      <td>crossover</td>\n",
       "      <td>midsize</td>\n",
       "      <td>4dr_suv</td>\n",
       "      <td>32</td>\n",
       "      <td>24</td>\n",
       "      <td>640</td>\n",
       "      <td>23395</td>\n",
       "    </tr>\n",
       "    <tr>\n",
       "      <th>96</th>\n",
       "      <td>nissan</td>\n",
       "      <td>240sx</td>\n",
       "      <td>1996</td>\n",
       "      <td>regular_unleaded</td>\n",
       "      <td>155.0</td>\n",
       "      <td>4.0</td>\n",
       "      <td>manual</td>\n",
       "      <td>rear_wheel_drive</td>\n",
       "      <td>2.0</td>\n",
       "      <td>performance</td>\n",
       "      <td>compact</td>\n",
       "      <td>coupe</td>\n",
       "      <td>26</td>\n",
       "      <td>19</td>\n",
       "      <td>2009</td>\n",
       "      <td>3713</td>\n",
       "    </tr>\n",
       "    <tr>\n",
       "      <th>6827</th>\n",
       "      <td>mitsubishi</td>\n",
       "      <td>mirage_g4</td>\n",
       "      <td>2017</td>\n",
       "      <td>regular_unleaded</td>\n",
       "      <td>78.0</td>\n",
       "      <td>3.0</td>\n",
       "      <td>automatic</td>\n",
       "      <td>front_wheel_drive</td>\n",
       "      <td>4.0</td>\n",
       "      <td>NaN</td>\n",
       "      <td>compact</td>\n",
       "      <td>sedan</td>\n",
       "      <td>42</td>\n",
       "      <td>35</td>\n",
       "      <td>436</td>\n",
       "      <td>15195</td>\n",
       "    </tr>\n",
       "    <tr>\n",
       "      <th>6846</th>\n",
       "      <td>lincoln</td>\n",
       "      <td>mkc</td>\n",
       "      <td>2016</td>\n",
       "      <td>regular_unleaded</td>\n",
       "      <td>240.0</td>\n",
       "      <td>4.0</td>\n",
       "      <td>automatic</td>\n",
       "      <td>front_wheel_drive</td>\n",
       "      <td>4.0</td>\n",
       "      <td>crossover,luxury</td>\n",
       "      <td>compact</td>\n",
       "      <td>4dr_suv</td>\n",
       "      <td>29</td>\n",
       "      <td>20</td>\n",
       "      <td>61</td>\n",
       "      <td>46455</td>\n",
       "    </tr>\n",
       "  </tbody>\n",
       "</table>\n",
       "</div>\n",
       "      <button class=\"colab-df-convert\" onclick=\"convertToInteractive('df-f40efd72-68b1-4ebd-adca-ca34783f7b56')\"\n",
       "              title=\"Convert this dataframe to an interactive table.\"\n",
       "              style=\"display:none;\">\n",
       "        \n",
       "  <svg xmlns=\"http://www.w3.org/2000/svg\" height=\"24px\"viewBox=\"0 0 24 24\"\n",
       "       width=\"24px\">\n",
       "    <path d=\"M0 0h24v24H0V0z\" fill=\"none\"/>\n",
       "    <path d=\"M18.56 5.44l.94 2.06.94-2.06 2.06-.94-2.06-.94-.94-2.06-.94 2.06-2.06.94zm-11 1L8.5 8.5l.94-2.06 2.06-.94-2.06-.94L8.5 2.5l-.94 2.06-2.06.94zm10 10l.94 2.06.94-2.06 2.06-.94-2.06-.94-.94-2.06-.94 2.06-2.06.94z\"/><path d=\"M17.41 7.96l-1.37-1.37c-.4-.4-.92-.59-1.43-.59-.52 0-1.04.2-1.43.59L10.3 9.45l-7.72 7.72c-.78.78-.78 2.05 0 2.83L4 21.41c.39.39.9.59 1.41.59.51 0 1.02-.2 1.41-.59l7.78-7.78 2.81-2.81c.8-.78.8-2.07 0-2.86zM5.41 20L4 18.59l7.72-7.72 1.47 1.35L5.41 20z\"/>\n",
       "  </svg>\n",
       "      </button>\n",
       "      \n",
       "  <style>\n",
       "    .colab-df-container {\n",
       "      display:flex;\n",
       "      flex-wrap:wrap;\n",
       "      gap: 12px;\n",
       "    }\n",
       "\n",
       "    .colab-df-convert {\n",
       "      background-color: #E8F0FE;\n",
       "      border: none;\n",
       "      border-radius: 50%;\n",
       "      cursor: pointer;\n",
       "      display: none;\n",
       "      fill: #1967D2;\n",
       "      height: 32px;\n",
       "      padding: 0 0 0 0;\n",
       "      width: 32px;\n",
       "    }\n",
       "\n",
       "    .colab-df-convert:hover {\n",
       "      background-color: #E2EBFA;\n",
       "      box-shadow: 0px 1px 2px rgba(60, 64, 67, 0.3), 0px 1px 3px 1px rgba(60, 64, 67, 0.15);\n",
       "      fill: #174EA6;\n",
       "    }\n",
       "\n",
       "    [theme=dark] .colab-df-convert {\n",
       "      background-color: #3B4455;\n",
       "      fill: #D2E3FC;\n",
       "    }\n",
       "\n",
       "    [theme=dark] .colab-df-convert:hover {\n",
       "      background-color: #434B5C;\n",
       "      box-shadow: 0px 1px 3px 1px rgba(0, 0, 0, 0.15);\n",
       "      filter: drop-shadow(0px 1px 2px rgba(0, 0, 0, 0.3));\n",
       "      fill: #FFFFFF;\n",
       "    }\n",
       "  </style>\n",
       "\n",
       "      <script>\n",
       "        const buttonEl =\n",
       "          document.querySelector('#df-f40efd72-68b1-4ebd-adca-ca34783f7b56 button.colab-df-convert');\n",
       "        buttonEl.style.display =\n",
       "          google.colab.kernel.accessAllowed ? 'block' : 'none';\n",
       "\n",
       "        async function convertToInteractive(key) {\n",
       "          const element = document.querySelector('#df-f40efd72-68b1-4ebd-adca-ca34783f7b56');\n",
       "          const dataTable =\n",
       "            await google.colab.kernel.invokeFunction('convertToInteractive',\n",
       "                                                     [key], {});\n",
       "          if (!dataTable) return;\n",
       "\n",
       "          const docLinkHtml = 'Like what you see? Visit the ' +\n",
       "            '<a target=\"_blank\" href=https://colab.research.google.com/notebooks/data_table.ipynb>data table notebook</a>'\n",
       "            + ' to learn more about interactive tables.';\n",
       "          element.innerHTML = '';\n",
       "          dataTable['output_type'] = 'display_data';\n",
       "          await google.colab.output.renderOutput(dataTable, element);\n",
       "          const docLink = document.createElement('div');\n",
       "          docLink.innerHTML = docLinkHtml;\n",
       "          element.appendChild(docLink);\n",
       "        }\n",
       "      </script>\n",
       "    </div>\n",
       "  </div>\n",
       "  "
      ],
      "text/plain": [
       "             Make              Model  Year  \\\n",
       "3572   mitsubishi           diamante  2004   \n",
       "8962          gmc             safari  2004   \n",
       "10122      suzuki                sx4  2011   \n",
       "9250       toyota             sienna  2017   \n",
       "4058    chevrolet            equinox  2015   \n",
       "8280   land_rover  range_rover_sport  2015   \n",
       "4844       subaru           forester  2016   \n",
       "96         nissan              240sx  1996   \n",
       "6827   mitsubishi          mirage_g4  2017   \n",
       "6846      lincoln                mkc  2016   \n",
       "\n",
       "                                Engine Fuel Type  Engine HP  Engine Cylinders  \\\n",
       "3572                 premium_unleaded_(required)      205.0               6.0   \n",
       "8962                            regular_unleaded      190.0               6.0   \n",
       "10122                           regular_unleaded      150.0               4.0   \n",
       "9250                            regular_unleaded      296.0               6.0   \n",
       "4058                            regular_unleaded      182.0               4.0   \n",
       "8280   flex-fuel_(premium_unleaded_required/e85)      510.0               8.0   \n",
       "4844                            regular_unleaded      170.0               4.0   \n",
       "96                              regular_unleaded      155.0               4.0   \n",
       "6827                            regular_unleaded       78.0               3.0   \n",
       "6846                            regular_unleaded      240.0               4.0   \n",
       "\n",
       "      Transmission Type      Driven_Wheels  Number of Doors  \\\n",
       "3572          automatic  front_wheel_drive              4.0   \n",
       "8962          automatic    all_wheel_drive              3.0   \n",
       "10122            manual  front_wheel_drive              4.0   \n",
       "9250          automatic    all_wheel_drive              4.0   \n",
       "4058          automatic  front_wheel_drive              4.0   \n",
       "8280          automatic   four_wheel_drive              4.0   \n",
       "4844          automatic    all_wheel_drive              4.0   \n",
       "96               manual   rear_wheel_drive              2.0   \n",
       "6827          automatic  front_wheel_drive              4.0   \n",
       "6846          automatic  front_wheel_drive              4.0   \n",
       "\n",
       "                         Market Category Vehicle Size      Vehicle Style  \\\n",
       "3572                                 NaN      midsize              sedan   \n",
       "8962                                 NaN        large  passenger_minivan   \n",
       "10122                                NaN      compact              sedan   \n",
       "9250                                 NaN        large  passenger_minivan   \n",
       "4058                 crossover,flex_fuel      compact            4dr_suv   \n",
       "8280   flex_fuel,luxury,high-performance      midsize            4dr_suv   \n",
       "4844                           crossover      midsize            4dr_suv   \n",
       "96                           performance      compact              coupe   \n",
       "6827                                 NaN      compact              sedan   \n",
       "6846                    crossover,luxury      compact            4dr_suv   \n",
       "\n",
       "       highway MPG  city mpg  Popularity   MSRP  \n",
       "3572            23        15         436  24999  \n",
       "8962            16        12         549  26195  \n",
       "10122           32        23         481  16479  \n",
       "9250            24        18        2031  38520  \n",
       "4058            32        22        1385  28170  \n",
       "8280            19        14         258  79995  \n",
       "4844            32        24         640  23395  \n",
       "96              26        19        2009   3713  \n",
       "6827            42        35         436  15195  \n",
       "6846            29        20          61  46455  "
      ]
     },
     "execution_count": 65,
     "metadata": {},
     "output_type": "execute_result"
    }
   ],
   "source": [
    "df.iloc[idx[:10]]"
   ]
  },
  {
   "cell_type": "code",
   "execution_count": 71,
   "metadata": {
    "executionInfo": {
     "elapsed": 257,
     "status": "ok",
     "timestamp": 1663714991518,
     "user": {
      "displayName": "Luciano Ceballos",
      "userId": "14799096369180886526"
     },
     "user_tz": 180
    },
    "id": "lL2RoB0IIQrZ"
   },
   "outputs": [],
   "source": [
    "np.random.seed(2)\n",
    "np.random.shuffle(idx)"
   ]
  },
  {
   "cell_type": "code",
   "execution_count": 74,
   "metadata": {
    "executionInfo": {
     "elapsed": 233,
     "status": "ok",
     "timestamp": 1663715066526,
     "user": {
      "displayName": "Luciano Ceballos",
      "userId": "14799096369180886526"
     },
     "user_tz": 180
    },
    "id": "YLenzVgpIT-5"
   },
   "outputs": [],
   "source": [
    "df_train = df.iloc[idx[:n_train]]\n",
    "df_val = df.iloc[idx[n_train:n_train+n_val]]\n",
    "df_test = df.iloc[idx[n_train+n_val:]]"
   ]
  },
  {
   "cell_type": "code",
   "execution_count": 75,
   "metadata": {
    "colab": {
     "base_uri": "https://localhost:8080/",
     "height": 540
    },
    "executionInfo": {
     "elapsed": 279,
     "status": "ok",
     "timestamp": 1663715069672,
     "user": {
      "displayName": "Luciano Ceballos",
      "userId": "14799096369180886526"
     },
     "user_tz": 180
    },
    "id": "21dK8E8GIyPI",
    "outputId": "2c8d7fed-0c71-49e7-9e61-35951070c221"
   },
   "outputs": [
    {
     "data": {
      "text/html": [
       "\n",
       "  <div id=\"df-0d179583-1fe3-48c2-95db-70a4c21fc662\">\n",
       "    <div class=\"colab-df-container\">\n",
       "      <div>\n",
       "<style scoped>\n",
       "    .dataframe tbody tr th:only-of-type {\n",
       "        vertical-align: middle;\n",
       "    }\n",
       "\n",
       "    .dataframe tbody tr th {\n",
       "        vertical-align: top;\n",
       "    }\n",
       "\n",
       "    .dataframe thead th {\n",
       "        text-align: right;\n",
       "    }\n",
       "</style>\n",
       "<table border=\"1\" class=\"dataframe\">\n",
       "  <thead>\n",
       "    <tr style=\"text-align: right;\">\n",
       "      <th></th>\n",
       "      <th>Make</th>\n",
       "      <th>Model</th>\n",
       "      <th>Year</th>\n",
       "      <th>Engine Fuel Type</th>\n",
       "      <th>Engine HP</th>\n",
       "      <th>Engine Cylinders</th>\n",
       "      <th>Transmission Type</th>\n",
       "      <th>Driven_Wheels</th>\n",
       "      <th>Number of Doors</th>\n",
       "      <th>Market Category</th>\n",
       "      <th>Vehicle Size</th>\n",
       "      <th>Vehicle Style</th>\n",
       "      <th>highway MPG</th>\n",
       "      <th>city mpg</th>\n",
       "      <th>Popularity</th>\n",
       "      <th>MSRP</th>\n",
       "    </tr>\n",
       "  </thead>\n",
       "  <tbody>\n",
       "    <tr>\n",
       "      <th>1037</th>\n",
       "      <td>audi</td>\n",
       "      <td>a3</td>\n",
       "      <td>2016</td>\n",
       "      <td>premium_unleaded_(recommended)</td>\n",
       "      <td>170.0</td>\n",
       "      <td>4.0</td>\n",
       "      <td>automated_manual</td>\n",
       "      <td>front_wheel_drive</td>\n",
       "      <td>2.0</td>\n",
       "      <td>luxury</td>\n",
       "      <td>compact</td>\n",
       "      <td>convertible</td>\n",
       "      <td>35</td>\n",
       "      <td>24</td>\n",
       "      <td>3105</td>\n",
       "      <td>45450</td>\n",
       "    </tr>\n",
       "    <tr>\n",
       "      <th>3102</th>\n",
       "      <td>honda</td>\n",
       "      <td>crosstour</td>\n",
       "      <td>2013</td>\n",
       "      <td>regular_unleaded</td>\n",
       "      <td>278.0</td>\n",
       "      <td>6.0</td>\n",
       "      <td>automatic</td>\n",
       "      <td>front_wheel_drive</td>\n",
       "      <td>4.0</td>\n",
       "      <td>crossover,hatchback</td>\n",
       "      <td>midsize</td>\n",
       "      <td>4dr_hatchback</td>\n",
       "      <td>30</td>\n",
       "      <td>20</td>\n",
       "      <td>2202</td>\n",
       "      <td>33540</td>\n",
       "    </tr>\n",
       "    <tr>\n",
       "      <th>3254</th>\n",
       "      <td>cadillac</td>\n",
       "      <td>cts</td>\n",
       "      <td>2015</td>\n",
       "      <td>premium_unleaded_(recommended)</td>\n",
       "      <td>272.0</td>\n",
       "      <td>4.0</td>\n",
       "      <td>automatic</td>\n",
       "      <td>all_wheel_drive</td>\n",
       "      <td>4.0</td>\n",
       "      <td>luxury,performance</td>\n",
       "      <td>large</td>\n",
       "      <td>sedan</td>\n",
       "      <td>28</td>\n",
       "      <td>19</td>\n",
       "      <td>1624</td>\n",
       "      <td>57670</td>\n",
       "    </tr>\n",
       "    <tr>\n",
       "      <th>8097</th>\n",
       "      <td>dodge</td>\n",
       "      <td>ram_250</td>\n",
       "      <td>1992</td>\n",
       "      <td>regular_unleaded</td>\n",
       "      <td>180.0</td>\n",
       "      <td>6.0</td>\n",
       "      <td>manual</td>\n",
       "      <td>rear_wheel_drive</td>\n",
       "      <td>2.0</td>\n",
       "      <td>NaN</td>\n",
       "      <td>large</td>\n",
       "      <td>regular_cab_pickup</td>\n",
       "      <td>17</td>\n",
       "      <td>13</td>\n",
       "      <td>1851</td>\n",
       "      <td>2000</td>\n",
       "    </tr>\n",
       "    <tr>\n",
       "      <th>881</th>\n",
       "      <td>saab</td>\n",
       "      <td>9000</td>\n",
       "      <td>1996</td>\n",
       "      <td>regular_unleaded</td>\n",
       "      <td>200.0</td>\n",
       "      <td>4.0</td>\n",
       "      <td>manual</td>\n",
       "      <td>front_wheel_drive</td>\n",
       "      <td>4.0</td>\n",
       "      <td>hatchback,luxury</td>\n",
       "      <td>midsize</td>\n",
       "      <td>4dr_hatchback</td>\n",
       "      <td>25</td>\n",
       "      <td>18</td>\n",
       "      <td>376</td>\n",
       "      <td>2000</td>\n",
       "    </tr>\n",
       "    <tr>\n",
       "      <th>...</th>\n",
       "      <td>...</td>\n",
       "      <td>...</td>\n",
       "      <td>...</td>\n",
       "      <td>...</td>\n",
       "      <td>...</td>\n",
       "      <td>...</td>\n",
       "      <td>...</td>\n",
       "      <td>...</td>\n",
       "      <td>...</td>\n",
       "      <td>...</td>\n",
       "      <td>...</td>\n",
       "      <td>...</td>\n",
       "      <td>...</td>\n",
       "      <td>...</td>\n",
       "      <td>...</td>\n",
       "      <td>...</td>\n",
       "    </tr>\n",
       "    <tr>\n",
       "      <th>5669</th>\n",
       "      <td>volkswagen</td>\n",
       "      <td>gti</td>\n",
       "      <td>2013</td>\n",
       "      <td>premium_unleaded_(recommended)</td>\n",
       "      <td>200.0</td>\n",
       "      <td>4.0</td>\n",
       "      <td>automated_manual</td>\n",
       "      <td>front_wheel_drive</td>\n",
       "      <td>2.0</td>\n",
       "      <td>hatchback,performance</td>\n",
       "      <td>compact</td>\n",
       "      <td>2dr_hatchback</td>\n",
       "      <td>33</td>\n",
       "      <td>24</td>\n",
       "      <td>873</td>\n",
       "      <td>27895</td>\n",
       "    </tr>\n",
       "    <tr>\n",
       "      <th>11663</th>\n",
       "      <td>suzuki</td>\n",
       "      <td>xl-7</td>\n",
       "      <td>2004</td>\n",
       "      <td>regular_unleaded</td>\n",
       "      <td>185.0</td>\n",
       "      <td>6.0</td>\n",
       "      <td>automatic</td>\n",
       "      <td>rear_wheel_drive</td>\n",
       "      <td>4.0</td>\n",
       "      <td>NaN</td>\n",
       "      <td>midsize</td>\n",
       "      <td>4dr_suv</td>\n",
       "      <td>21</td>\n",
       "      <td>16</td>\n",
       "      <td>481</td>\n",
       "      <td>22599</td>\n",
       "    </tr>\n",
       "    <tr>\n",
       "      <th>1393</th>\n",
       "      <td>bmw</td>\n",
       "      <td>alpina_b7</td>\n",
       "      <td>2015</td>\n",
       "      <td>premium_unleaded_(required)</td>\n",
       "      <td>540.0</td>\n",
       "      <td>8.0</td>\n",
       "      <td>automatic</td>\n",
       "      <td>rear_wheel_drive</td>\n",
       "      <td>4.0</td>\n",
       "      <td>factory_tuner,luxury,high-performance</td>\n",
       "      <td>large</td>\n",
       "      <td>sedan</td>\n",
       "      <td>25</td>\n",
       "      <td>16</td>\n",
       "      <td>3916</td>\n",
       "      <td>132200</td>\n",
       "    </tr>\n",
       "    <tr>\n",
       "      <th>3575</th>\n",
       "      <td>land_rover</td>\n",
       "      <td>discovery_series_ii</td>\n",
       "      <td>2000</td>\n",
       "      <td>regular_unleaded</td>\n",
       "      <td>188.0</td>\n",
       "      <td>8.0</td>\n",
       "      <td>automatic</td>\n",
       "      <td>all_wheel_drive</td>\n",
       "      <td>4.0</td>\n",
       "      <td>luxury</td>\n",
       "      <td>midsize</td>\n",
       "      <td>4dr_suv</td>\n",
       "      <td>16</td>\n",
       "      <td>12</td>\n",
       "      <td>258</td>\n",
       "      <td>2561</td>\n",
       "    </tr>\n",
       "    <tr>\n",
       "      <th>2951</th>\n",
       "      <td>toyota</td>\n",
       "      <td>corolla</td>\n",
       "      <td>2017</td>\n",
       "      <td>regular_unleaded</td>\n",
       "      <td>132.0</td>\n",
       "      <td>4.0</td>\n",
       "      <td>automatic</td>\n",
       "      <td>front_wheel_drive</td>\n",
       "      <td>4.0</td>\n",
       "      <td>NaN</td>\n",
       "      <td>compact</td>\n",
       "      <td>sedan</td>\n",
       "      <td>36</td>\n",
       "      <td>28</td>\n",
       "      <td>2031</td>\n",
       "      <td>18500</td>\n",
       "    </tr>\n",
       "  </tbody>\n",
       "</table>\n",
       "<p>7150 rows × 16 columns</p>\n",
       "</div>\n",
       "      <button class=\"colab-df-convert\" onclick=\"convertToInteractive('df-0d179583-1fe3-48c2-95db-70a4c21fc662')\"\n",
       "              title=\"Convert this dataframe to an interactive table.\"\n",
       "              style=\"display:none;\">\n",
       "        \n",
       "  <svg xmlns=\"http://www.w3.org/2000/svg\" height=\"24px\"viewBox=\"0 0 24 24\"\n",
       "       width=\"24px\">\n",
       "    <path d=\"M0 0h24v24H0V0z\" fill=\"none\"/>\n",
       "    <path d=\"M18.56 5.44l.94 2.06.94-2.06 2.06-.94-2.06-.94-.94-2.06-.94 2.06-2.06.94zm-11 1L8.5 8.5l.94-2.06 2.06-.94-2.06-.94L8.5 2.5l-.94 2.06-2.06.94zm10 10l.94 2.06.94-2.06 2.06-.94-2.06-.94-.94-2.06-.94 2.06-2.06.94z\"/><path d=\"M17.41 7.96l-1.37-1.37c-.4-.4-.92-.59-1.43-.59-.52 0-1.04.2-1.43.59L10.3 9.45l-7.72 7.72c-.78.78-.78 2.05 0 2.83L4 21.41c.39.39.9.59 1.41.59.51 0 1.02-.2 1.41-.59l7.78-7.78 2.81-2.81c.8-.78.8-2.07 0-2.86zM5.41 20L4 18.59l7.72-7.72 1.47 1.35L5.41 20z\"/>\n",
       "  </svg>\n",
       "      </button>\n",
       "      \n",
       "  <style>\n",
       "    .colab-df-container {\n",
       "      display:flex;\n",
       "      flex-wrap:wrap;\n",
       "      gap: 12px;\n",
       "    }\n",
       "\n",
       "    .colab-df-convert {\n",
       "      background-color: #E8F0FE;\n",
       "      border: none;\n",
       "      border-radius: 50%;\n",
       "      cursor: pointer;\n",
       "      display: none;\n",
       "      fill: #1967D2;\n",
       "      height: 32px;\n",
       "      padding: 0 0 0 0;\n",
       "      width: 32px;\n",
       "    }\n",
       "\n",
       "    .colab-df-convert:hover {\n",
       "      background-color: #E2EBFA;\n",
       "      box-shadow: 0px 1px 2px rgba(60, 64, 67, 0.3), 0px 1px 3px 1px rgba(60, 64, 67, 0.15);\n",
       "      fill: #174EA6;\n",
       "    }\n",
       "\n",
       "    [theme=dark] .colab-df-convert {\n",
       "      background-color: #3B4455;\n",
       "      fill: #D2E3FC;\n",
       "    }\n",
       "\n",
       "    [theme=dark] .colab-df-convert:hover {\n",
       "      background-color: #434B5C;\n",
       "      box-shadow: 0px 1px 3px 1px rgba(0, 0, 0, 0.15);\n",
       "      filter: drop-shadow(0px 1px 2px rgba(0, 0, 0, 0.3));\n",
       "      fill: #FFFFFF;\n",
       "    }\n",
       "  </style>\n",
       "\n",
       "      <script>\n",
       "        const buttonEl =\n",
       "          document.querySelector('#df-0d179583-1fe3-48c2-95db-70a4c21fc662 button.colab-df-convert');\n",
       "        buttonEl.style.display =\n",
       "          google.colab.kernel.accessAllowed ? 'block' : 'none';\n",
       "\n",
       "        async function convertToInteractive(key) {\n",
       "          const element = document.querySelector('#df-0d179583-1fe3-48c2-95db-70a4c21fc662');\n",
       "          const dataTable =\n",
       "            await google.colab.kernel.invokeFunction('convertToInteractive',\n",
       "                                                     [key], {});\n",
       "          if (!dataTable) return;\n",
       "\n",
       "          const docLinkHtml = 'Like what you see? Visit the ' +\n",
       "            '<a target=\"_blank\" href=https://colab.research.google.com/notebooks/data_table.ipynb>data table notebook</a>'\n",
       "            + ' to learn more about interactive tables.';\n",
       "          element.innerHTML = '';\n",
       "          dataTable['output_type'] = 'display_data';\n",
       "          await google.colab.output.renderOutput(dataTable, element);\n",
       "          const docLink = document.createElement('div');\n",
       "          docLink.innerHTML = docLinkHtml;\n",
       "          element.appendChild(docLink);\n",
       "        }\n",
       "      </script>\n",
       "    </div>\n",
       "  </div>\n",
       "  "
      ],
      "text/plain": [
       "             Make                Model  Year                Engine Fuel Type  \\\n",
       "1037         audi                   a3  2016  premium_unleaded_(recommended)   \n",
       "3102        honda            crosstour  2013                regular_unleaded   \n",
       "3254     cadillac                  cts  2015  premium_unleaded_(recommended)   \n",
       "8097        dodge              ram_250  1992                regular_unleaded   \n",
       "881          saab                 9000  1996                regular_unleaded   \n",
       "...           ...                  ...   ...                             ...   \n",
       "5669   volkswagen                  gti  2013  premium_unleaded_(recommended)   \n",
       "11663      suzuki                 xl-7  2004                regular_unleaded   \n",
       "1393          bmw            alpina_b7  2015     premium_unleaded_(required)   \n",
       "3575   land_rover  discovery_series_ii  2000                regular_unleaded   \n",
       "2951       toyota              corolla  2017                regular_unleaded   \n",
       "\n",
       "       Engine HP  Engine Cylinders Transmission Type      Driven_Wheels  \\\n",
       "1037       170.0               4.0  automated_manual  front_wheel_drive   \n",
       "3102       278.0               6.0         automatic  front_wheel_drive   \n",
       "3254       272.0               4.0         automatic    all_wheel_drive   \n",
       "8097       180.0               6.0            manual   rear_wheel_drive   \n",
       "881        200.0               4.0            manual  front_wheel_drive   \n",
       "...          ...               ...               ...                ...   \n",
       "5669       200.0               4.0  automated_manual  front_wheel_drive   \n",
       "11663      185.0               6.0         automatic   rear_wheel_drive   \n",
       "1393       540.0               8.0         automatic   rear_wheel_drive   \n",
       "3575       188.0               8.0         automatic    all_wheel_drive   \n",
       "2951       132.0               4.0         automatic  front_wheel_drive   \n",
       "\n",
       "       Number of Doors                        Market Category Vehicle Size  \\\n",
       "1037               2.0                                 luxury      compact   \n",
       "3102               4.0                    crossover,hatchback      midsize   \n",
       "3254               4.0                     luxury,performance        large   \n",
       "8097               2.0                                    NaN        large   \n",
       "881                4.0                       hatchback,luxury      midsize   \n",
       "...                ...                                    ...          ...   \n",
       "5669               2.0                  hatchback,performance      compact   \n",
       "11663              4.0                                    NaN      midsize   \n",
       "1393               4.0  factory_tuner,luxury,high-performance        large   \n",
       "3575               4.0                                 luxury      midsize   \n",
       "2951               4.0                                    NaN      compact   \n",
       "\n",
       "            Vehicle Style  highway MPG  city mpg  Popularity    MSRP  \n",
       "1037          convertible           35        24        3105   45450  \n",
       "3102        4dr_hatchback           30        20        2202   33540  \n",
       "3254                sedan           28        19        1624   57670  \n",
       "8097   regular_cab_pickup           17        13        1851    2000  \n",
       "881         4dr_hatchback           25        18         376    2000  \n",
       "...                   ...          ...       ...         ...     ...  \n",
       "5669        2dr_hatchback           33        24         873   27895  \n",
       "11663             4dr_suv           21        16         481   22599  \n",
       "1393                sedan           25        16        3916  132200  \n",
       "3575              4dr_suv           16        12         258    2561  \n",
       "2951                sedan           36        28        2031   18500  \n",
       "\n",
       "[7150 rows x 16 columns]"
      ]
     },
     "execution_count": 75,
     "metadata": {},
     "output_type": "execute_result"
    }
   ],
   "source": [
    "df_train"
   ]
  },
  {
   "cell_type": "code",
   "execution_count": 76,
   "metadata": {
    "colab": {
     "base_uri": "https://localhost:8080/"
    },
    "executionInfo": {
     "elapsed": 244,
     "status": "ok",
     "timestamp": 1663715073936,
     "user": {
      "displayName": "Luciano Ceballos",
      "userId": "14799096369180886526"
     },
     "user_tz": 180
    },
    "id": "wCxDjMoyJEnG",
    "outputId": "44f3d17c-e133-4b4f-a30e-47dfe415d359"
   },
   "outputs": [
    {
     "data": {
      "text/plain": [
       "(7150, 2382, 2382)"
      ]
     },
     "execution_count": 76,
     "metadata": {},
     "output_type": "execute_result"
    }
   ],
   "source": [
    "len(df_train), len(df_test) , len(df_test)"
   ]
  },
  {
   "cell_type": "code",
   "execution_count": 77,
   "metadata": {
    "executionInfo": {
     "elapsed": 251,
     "status": "ok",
     "timestamp": 1663715179541,
     "user": {
      "displayName": "Luciano Ceballos",
      "userId": "14799096369180886526"
     },
     "user_tz": 180
    },
    "id": "RO4Nhp2HJjdN"
   },
   "outputs": [],
   "source": [
    "df_train = df_train.reset_index(drop=True)\n",
    "df_val = df_val.reset_index(drop=True)\n",
    "df_test = df_test.reset_index(drop=True)"
   ]
  },
  {
   "cell_type": "code",
   "execution_count": 78,
   "metadata": {
    "executionInfo": {
     "elapsed": 275,
     "status": "ok",
     "timestamp": 1663715243363,
     "user": {
      "displayName": "Luciano Ceballos",
      "userId": "14799096369180886526"
     },
     "user_tz": 180
    },
    "id": "3DHXRy8GJxVI"
   },
   "outputs": [],
   "source": [
    "y_train = np.log1p(df_train.MSRP.values)\n",
    "y_val = np.log1p(df_val.MSRP.values)\n",
    "y_test = np.log1p(df_test.MSRP.values)"
   ]
  },
  {
   "cell_type": "code",
   "execution_count": 79,
   "metadata": {
    "executionInfo": {
     "elapsed": 3,
     "status": "ok",
     "timestamp": 1663715273004,
     "user": {
      "displayName": "Luciano Ceballos",
      "userId": "14799096369180886526"
     },
     "user_tz": 180
    },
    "id": "fl2INmbCJ_7j"
   },
   "outputs": [],
   "source": [
    "del df_train['MSRP']\n",
    "del df_test['MSRP']\n",
    "del df_val['MSRP']"
   ]
  },
  {
   "cell_type": "markdown",
   "metadata": {
    "id": "raf2p3xoKkZ7"
   },
   "source": [
    "## 2.5 Linear Regression"
   ]
  },
  {
   "cell_type": "code",
   "execution_count": null,
   "metadata": {
    "id": "zzgTPwrpLlXP"
   },
   "outputs": [],
   "source": []
  }
 ],
 "metadata": {
  "colab": {
   "authorship_tag": "ABX9TyProUnXc9+pJYTncxwfT1Tf",
   "provenance": []
  },
  "kernelspec": {
   "display_name": "Python 3 (ipykernel)",
   "language": "python",
   "name": "python3"
  },
  "language_info": {
   "codemirror_mode": {
    "name": "ipython",
    "version": 3
   },
   "file_extension": ".py",
   "mimetype": "text/x-python",
   "name": "python",
   "nbconvert_exporter": "python",
   "pygments_lexer": "ipython3",
   "version": "3.8.10"
  }
 },
 "nbformat": 4,
 "nbformat_minor": 1
}
